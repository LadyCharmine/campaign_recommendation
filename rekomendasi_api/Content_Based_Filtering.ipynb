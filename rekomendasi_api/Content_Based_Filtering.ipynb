{
  "nbformat": 4,
  "nbformat_minor": 0,
  "metadata": {
    "colab": {
      "provenance": []
    },
    "kernelspec": {
      "name": "python3",
      "display_name": "Python 3"
    },
    "language_info": {
      "name": "python"
    }
  },
  "cells": [
    {
      "cell_type": "code",
      "execution_count": null,
      "metadata": {
        "colab": {
          "base_uri": "https://localhost:8080/"
        },
        "id": "qnbGYG9_JSTt",
        "outputId": "e80f7bc6-200b-4534-9819-bd58a74045bc"
      },
      "outputs": [
        {
          "output_type": "stream",
          "name": "stdout",
          "text": [
            "Requirement already satisfied: Sastrawi in /usr/local/lib/python3.11/dist-packages (1.0.1)\n",
            "Requirement already satisfied: openpyxl in /usr/local/lib/python3.11/dist-packages (3.1.5)\n",
            "Requirement already satisfied: et-xmlfile in /usr/local/lib/python3.11/dist-packages (from openpyxl) (2.0.0)\n",
            "Library yang dibutuhkan telah siap.\n"
          ]
        }
      ],
      "source": [
        "# ==============================================================================\n",
        "# 1. INSTALASI LIBRARY YANG DIPERLUKAN DAN IMPORT\n",
        "# ==============================================================================\n",
        "# Instal library Sastrawi untuk stemming Bahasa Indonesia\n",
        "# dan openpyxl untuk membaca file Excel (.xlsx)\n",
        "!pip install Sastrawi openpyxl\n",
        "\n",
        "import pandas as pd\n",
        "import re\n",
        "from sklearn.feature_extraction.text import TfidfVectorizer\n",
        "from sklearn.metrics.pairwise import cosine_similarity\n",
        "import pickle\n",
        "from Sastrawi.Stemmer.StemmerFactory import StemmerFactory\n",
        "from Sastrawi.StopWordRemover.StopWordRemoverFactory import StopWordRemoverFactory\n",
        "\n",
        "print(\"Library yang dibutuhkan telah siap.\")"
      ]
    },
    {
      "cell_type": "code",
      "source": [
        "# ==============================================================================\n",
        "# 2. MUAT DATASET DARI FILE .XLSX\n",
        "# ==============================================================================\n",
        "# Path file yang Anda berikan\n",
        "file_path = '/content/sample_data/daftarcampaign.xlsx'\n",
        "\n",
        "try:\n",
        "    # Menggunakan pd.read_excel() untuk membaca file Excel.\n",
        "    # Tidak perlu parameter encoding untuk file .xlsx\n",
        "    df = pd.read_excel(file_path)\n",
        "    print(\"Dataset .xlsx berhasil dimuat.\")\n",
        "    print(\"Contoh 5 baris pertama dari data Anda:\")\n",
        "    print(df.head())\n",
        "except FileNotFoundError:\n",
        "    print(f\"Error: File '{file_path}' tidak ditemukan.\")\n",
        "    print(\"Pastikan file sudah ada di lokasi tersebut. Anda bisa memeriksanya di panel file sebelah kiri.\")\n",
        "except Exception as e:\n",
        "    print(f\"Terjadi error saat membaca file Excel: {e}\")\n",
        "\n",
        "# (Lanjutkan dengan kode preprocessing dan seterusnya dari skrip sebelumnya...)"
      ],
      "metadata": {
        "colab": {
          "base_uri": "https://localhost:8080/"
        },
        "id": "blrQJ7X8JnUo",
        "outputId": "7d7b60fb-e2d4-435a-b438-a75051c6ff6c"
      },
      "execution_count": null,
      "outputs": [
        {
          "output_type": "stream",
          "name": "stdout",
          "text": [
            "Dataset .xlsx berhasil dimuat.\n",
            "Contoh 5 baris pertama dari data Anda:\n",
            "   No                                              Judul  \\\n",
            "0   1      [DARURAT] Bangun Lagi Rumah Sakit untuk GAZA!   \n",
            "1   2  🚨URGENT 🚨 Gaza Tanpa Masjid, Dimana Mereka Ber...   \n",
            "2   3  🚨 DARURAT!! Gaza Kembali Diserang, Mereka Butu...   \n",
            "3   4  Zakat untuk Anak Yatim & Dhuafa: Wujudkan Keba...   \n",
            "4   5              Sedekah Jariyah : Muliakan Guru Ngaji   \n",
            "\n",
            "                                           Deskripsi        Yayasan  \\\n",
            "0  Serangan brutal Zionis Israel porak porandakan...  Dompet Dhuafa   \n",
            "1  Gaza tanpa masjid, di mana mereka bersujud? 💔 ...  Dompet Dhuafa   \n",
            "2  Hanya dalam 50 jam, sebanyak 710 warga Palesti...  Dompet Dhuafa   \n",
            "3  Saatnya Berbagi! Tunaikan zakat untuk yatim & ...  Dompet Dhuafa   \n",
            "4  Raih pahala jariyah dengan muliakan guru ngaji...  Dompet Dhuafa   \n",
            "\n",
            "      Kategori  \n",
            "0  Kemanusiaan  \n",
            "1  Kemanusiaan  \n",
            "2  Kemanusiaan  \n",
            "3        Zakat  \n",
            "4       Sosial  \n"
          ]
        }
      ]
    },
    {
      "cell_type": "code",
      "source": [
        "# ==============================================================================\n",
        "# 3. PRA-PEMROSESAN DATA TEKS (PREPROCESSING)\n",
        "# ==============================================================================\n",
        "# Menggabungkan fitur teks (Judul dan Deskripsi) menjadi satu kolom 'content'\n",
        "# untuk dianalisis. Ini akan menangkap makna dari kedua kolom tersebut.\n",
        "# Pastikan nama kolom 'Judul' dan 'Deskripsi' sesuai dengan file Excel Anda.\n",
        "print(\"\\nMemulai tahap pra-pemrosesan data...\")\n",
        "df['content'] = df['Judul'] + ' ' + df['Deskripsi']\n",
        "print(\"Kolom 'Judul' dan 'Deskripsi' telah digabung menjadi kolom 'content'.\")\n",
        "\n",
        "# Inisialisasi stemmer dan stopword remover untuk Bahasa Indonesia\n",
        "factory_stemmer = StemmerFactory()\n",
        "stemmer = factory_stemmer.create_stemmer()\n",
        "\n",
        "factory_stopword = StopWordRemoverFactory()\n",
        "stopword_remover = factory_stopword.create_stop_word_remover()\n",
        "\n",
        "def preprocess_text(text):\n",
        "    \"\"\"\n",
        "    Fungsi untuk membersihkan, menghapus stopword, dan melakukan stemming pada teks.\n",
        "    \"\"\"\n",
        "    if not isinstance(text, str):\n",
        "        return \"\"\n",
        "    # 1. Case Folding: Mengubah teks menjadi huruf kecil\n",
        "    text = text.lower()\n",
        "    # 2. Menghapus karakter non-alfanumerik (kecuali spasi)\n",
        "    text = re.sub(r'[^a-zA-Z0-9\\s]', '', text)\n",
        "    # 3. Stopword Removal\n",
        "    text = stopword_remover.remove(text)\n",
        "    # 4. Stemming\n",
        "    text = stemmer.stem(text)\n",
        "    return text\n",
        "\n",
        "# Terapkan fungsi preprocessing ke kolom 'content'\n",
        "print(\"Membersihkan teks (case folding, stopword removal, stemming)...\")\n",
        "df['content_cleaned'] = df['content'].apply(preprocess_text)\n",
        "print(\"Proses pra-pemrosesan selesai.\")\n",
        "print(\"\\nContoh hasil pra-pemrosesan:\")\n",
        "print(df[['Judul', 'content_cleaned']].head())"
      ],
      "metadata": {
        "colab": {
          "base_uri": "https://localhost:8080/"
        },
        "id": "ZmhTkB7BLIQz",
        "outputId": "19b9a66e-746a-4e33-f5e4-c8d2073f18d8"
      },
      "execution_count": null,
      "outputs": [
        {
          "output_type": "stream",
          "name": "stdout",
          "text": [
            "\n",
            "Memulai tahap pra-pemrosesan data...\n",
            "Kolom 'Judul' dan 'Deskripsi' telah digabung menjadi kolom 'content'.\n",
            "Membersihkan teks (case folding, stopword removal, stemming)...\n",
            "Proses pra-pemrosesan selesai.\n",
            "\n",
            "Contoh hasil pra-pemrosesan:\n",
            "                                               Judul  \\\n",
            "0      [DARURAT] Bangun Lagi Rumah Sakit untuk GAZA!   \n",
            "1  🚨URGENT 🚨 Gaza Tanpa Masjid, Dimana Mereka Ber...   \n",
            "2  🚨 DARURAT!! Gaza Kembali Diserang, Mereka Butu...   \n",
            "3  Zakat untuk Anak Yatim & Dhuafa: Wujudkan Keba...   \n",
            "4              Sedekah Jariyah : Muliakan Guru Ngaji   \n",
            "\n",
            "                                     content_cleaned  \n",
            "0  darurat bangun rumah sakit gaza serang brutal ...  \n",
            "1  urgent gaza masjid sujud gaza masjid mana suju...  \n",
            "2  darurat gaza serang butuh hanya 50 jam banyak ...  \n",
            "3  zakat anak yatim dhuafa wujud bahagia di ramad...  \n",
            "4  sedekah jariyah mulia guru ngaji raih pahala j...  \n"
          ]
        }
      ]
    },
    {
      "cell_type": "code",
      "source": [
        "# ==============================================================================\n",
        "# 4. PEMBUATAN MODEL (TF-IDF VECTORIZER)\n",
        "# ==============================================================================\n",
        "# Membuat objek TfidfVectorizer. Ini adalah \"model\" Content-Based Filtering kita.\n",
        "# Model ini akan belajar kosakata dan bobot IDF dari seluruh data kampanye.\n",
        "tfidf_vectorizer = TfidfVectorizer()\n",
        "\n",
        "# Melakukan \"training\" model: mempelajari kosakata dan menghitung bobot IDF,\n",
        "# lalu mentransformasi teks menjadi matriks TF-IDF.\n",
        "print(\"\\nMembuat model TF-IDF dan mentransformasi data...\")\n",
        "tfidf_matrix = tfidf_vectorizer.fit_transform(df['content_cleaned'])\n",
        "print(\"Pembuatan matriks TF-IDF selesai.\")\n",
        "print(f\"Bentuk matriks TF-IDF: {tfidf_matrix.shape} (Jumlah Kampanye, Jumlah Kata Unik)\")"
      ],
      "metadata": {
        "colab": {
          "base_uri": "https://localhost:8080/"
        },
        "id": "bHoNjGIfLV1x",
        "outputId": "fe827be2-6a09-4c47-e795-02c370e8718e"
      },
      "execution_count": null,
      "outputs": [
        {
          "output_type": "stream",
          "name": "stdout",
          "text": [
            "\n",
            "Membuat model TF-IDF dan mentransformasi data...\n",
            "Pembuatan matriks TF-IDF selesai.\n",
            "Bentuk matriks TF-IDF: (177, 898) (Jumlah Kampanye, Jumlah Kata Unik)\n"
          ]
        }
      ]
    },
    {
      "cell_type": "code",
      "source": [
        "# ==============================================================================\n",
        "# 5. MENYIMPAN MODEL (.pkl)\n",
        "# ==============================================================================\n",
        "# Sesuai revisi, kita simpan objek vectorizer dan matriks TF-IDF\n",
        "# agar bisa digunakan nanti di aplikasi web tanpa perlu training ulang.\n",
        "\n",
        "# Menyimpan TF-IDF Vectorizer\n",
        "with open('tfidf_vectorizer.pkl', 'wb') as f:\n",
        "    pickle.dump(tfidf_vectorizer, f)\n",
        "print(\"\\nModel TF-IDF Vectorizer telah disimpan sebagai 'tfidf_vectorizer.pkl'\")\n",
        "\n",
        "# Menyimpan Matriks TF-IDF\n",
        "with open('tfidf_matrix.pkl', 'wb') as f:\n",
        "    pickle.dump(tfidf_matrix, f)\n",
        "print(\"Matriks TF-IDF telah disimpan sebagai 'tfidf_matrix.pkl'\")\n",
        "print(\"Anda bisa mengunduh kedua file .pkl ini dari panel file di sebelah kiri Colab.\")"
      ],
      "metadata": {
        "colab": {
          "base_uri": "https://localhost:8080/"
        },
        "id": "aKD3KhovLZmD",
        "outputId": "bfae71f4-4de5-4750-bbb4-89b4e84fe1b8"
      },
      "execution_count": null,
      "outputs": [
        {
          "output_type": "stream",
          "name": "stdout",
          "text": [
            "\n",
            "Model TF-IDF Vectorizer telah disimpan sebagai 'tfidf_vectorizer.pkl'\n",
            "Matriks TF-IDF telah disimpan sebagai 'tfidf_matrix.pkl'\n",
            "Anda bisa mengunduh kedua file .pkl ini dari panel file di sebelah kiri Colab.\n"
          ]
        }
      ]
    },
    {
      "cell_type": "code",
      "source": [
        "# ==============================================================================\n",
        "# 6. MENGHITUNG KEMIRIPAN (COSINE SIMILARITY)\n",
        "# ==============================================================================\n",
        "# Menghitung matriks cosine similarity dari matriks TF-IDF.\n",
        "# Hasilnya adalah matriks (n_kampanye x n_kampanye) dimana setiap sel (i, j)\n",
        "# berisi skor kemiripan antara kampanye i dan kampanye j.\n",
        "print(\"\\nMenghitung matriks Cosine Similarity...\")\n",
        "cosine_sim = cosine_similarity(tfidf_matrix, tfidf_matrix)\n",
        "print(\"Perhitungan Cosine Similarity selesai.\")\n",
        "print(f\"Bentuk matriks Cosine Similarity: {cosine_sim.shape}\")"
      ],
      "metadata": {
        "colab": {
          "base_uri": "https://localhost:8080/"
        },
        "id": "g6PkiofYLfX_",
        "outputId": "f56bbef1-b24c-45dd-c823-b0832fd3223d"
      },
      "execution_count": null,
      "outputs": [
        {
          "output_type": "stream",
          "name": "stdout",
          "text": [
            "\n",
            "Menghitung matriks Cosine Similarity...\n",
            "Perhitungan Cosine Similarity selesai.\n",
            "Bentuk matriks Cosine Similarity: (177, 177)\n"
          ]
        }
      ]
    },
    {
      "cell_type": "code",
      "source": [
        "# ==============================================================================\n",
        "# 7. FUNGSI DAN DEMONSTRASI REKOMENDASI\n",
        "# ==============================================================================\n",
        "# Buat series untuk memetakan judul kampanye ke indeksnya agar mudah dicari\n",
        "indices = pd.Series(df.index, index=df['Judul']).drop_duplicates()\n",
        "\n",
        "def get_recommendations(title, cosine_sim_matrix, dataframe):\n",
        "    \"\"\"\n",
        "    Fungsi untuk mendapatkan rekomendasi berdasarkan judul kampanye.\n",
        "    \"\"\"\n",
        "    if title not in indices:\n",
        "        return f\"Error: Judul '{title}' tidak ditemukan dalam dataset.\"\n",
        "\n",
        "    # Dapatkan indeks dari judul kampanye yang diberikan\n",
        "    idx = indices[title]\n",
        "\n",
        "    # Dapatkan skor kemiripan dari semua kampanye dengan kampanye tersebut\n",
        "    sim_scores = list(enumerate(cosine_sim_matrix[idx]))\n",
        "\n",
        "    # Urutkan kampanye berdasarkan skor kemiripan (dari tertinggi ke terendah)\n",
        "    sim_scores = sorted(sim_scores, key=lambda x: x[1], reverse=True)\n",
        "\n",
        "    # Ambil skor dari 10 kampanye paling mirip (abaikan yang pertama karena itu kampanye itu sendiri)\n",
        "    sim_scores = sim_scores[1:11]\n",
        "\n",
        "    # Dapatkan indeks kampanye yang direkomendasikan\n",
        "    campaign_indices = [i[0] for i in sim_scores]\n",
        "\n",
        "    # Kembalikan DataFrame kecil berisi judul dan skor kemiripan\n",
        "    recommendations = dataframe[['Judul', 'Kategori']].iloc[campaign_indices].copy()\n",
        "    recommendations['Similarity Score'] = [round(score[1], 4) for score in sim_scores]\n",
        "    return recommendations.reset_index(drop=True)"
      ],
      "metadata": {
        "id": "mj3Xd1EvLlDi"
      },
      "execution_count": null,
      "outputs": []
    },
    {
      "cell_type": "code",
      "source": [
        "# --- DEMONSTRASI SESUAI PERMINTAAN REVISI ---\n",
        "\n",
        "print(\"\\n\" + \"=\"*60)\n",
        "print(\"         DEMONSTRASI HASIL REKOMENDASI        \")\n",
        "print(\"=\"*60)\n",
        "\n",
        "# Skenario 1: Donatur 1 (Suka kampanye Bencana)\n",
        "print(\"\\nSKENARIO 1: DONATUR 1\")\n",
        "try:\n",
        "    # Cari kampanye pertama yang mengandung kategori 'Bencana'\n",
        "    campaign_bencana = df[df['Kategori'].str.contains('Bencana', case=False, na=False)].iloc[0]['Judul']\n",
        "    print(f\"Donatur 1 sebelumnya berdonasi untuk kampanye bencana: '{campaign_bencana}'\")\n",
        "    print(\"------------------------------------------------------------------\")\n",
        "    print(\"Rekomendasi kampanye serupa untuk Donatur 1:\")\n",
        "    recommendations_donatur1 = get_recommendations(campaign_bencana, cosine_sim, df)\n",
        "    print(recommendations_donatur1)\n",
        "except IndexError:\n",
        "    print(\"\\nTidak ditemukan kampanye dengan kategori 'Bencana' dalam dataset untuk demonstrasi Donatur 1.\")\n",
        "except Exception as e:\n",
        "    print(f\"\\nTerjadi error saat mencari rekomendasi untuk Donatur 1: {e}\")\n",
        "\n",
        "\n",
        "# Skenario 2: Donatur 2 (Suka kampanye Kemanusiaan dan Zakat)\n",
        "print(\"\\n\\nSKENARIO 2: DONATUR 2\")\n",
        "try:\n",
        "    # Rekomendasi berdasarkan riwayat donasi Kemanusiaan\n",
        "    campaign_kemanusiaan = df[df['Kategori'].str.contains('Kemanusiaan', case=False, na=False)].iloc[0]['Judul']\n",
        "    print(f\"Donatur 2 sebelumnya berdonasi untuk kampanye kemanusiaan: '{campaign_kemanusiaan}'\")\n",
        "    print(\"------------------------------------------------------------------\")\n",
        "    print(\"Rekomendasi kampanye serupa (berdasarkan riwayat kemanusiaan):\")\n",
        "    recommendations_donatur2_kemanusiaan = get_recommendations(campaign_kemanusiaan, cosine_sim, df)\n",
        "    print(recommendations_donatur2_kemanusiaan)\n",
        "except IndexError:\n",
        "    print(\"\\nTidak ditemukan kampanye dengan kategori 'Kemanusiaan' dalam dataset untuk demonstrasi Donatur 2.\")\n",
        "except Exception as e:\n",
        "    print(f\"\\nTerjadi error saat mencari rekomendasi Kemanusiaan untuk Donatur 2: {e}\")\n",
        "\n",
        "try:\n",
        "    # Rekomendasi berdasarkan riwayat donasi Zakat\n",
        "    campaign_zakat = df[df['Kategori'].str.contains('Zakat', case=False, na=False)].iloc[0]['Judul']\n",
        "    print(f\"\\nDonatur 2 juga berdonasi untuk kampanye zakat: '{campaign_zakat}'\")\n",
        "    print(\"------------------------------------------------------------------\")\n",
        "    print(\"Rekomendasi kampanye serupa (berdasarkan riwayat zakat):\")\n",
        "    recommendations_donatur2_zakat = get_recommendations(campaign_zakat, cosine_sim, df)\n",
        "    print(recommendations_donatur2_zakat)\n",
        "except IndexError:\n",
        "    print(\"\\nTidak ditemukan kampanye dengan kategori 'Zakat' dalam dataset untuk demonstrasi Donatur 2.\")\n",
        "except Exception as e:\n",
        "    print(f\"\\nTerjadi error saat mencari rekomendasi Zakat untuk Donatur 2: {e}\")"
      ],
      "metadata": {
        "colab": {
          "base_uri": "https://localhost:8080/"
        },
        "id": "Sj3drDsqLmd6",
        "outputId": "4f5ef7af-8827-4a2c-e32c-3d89d1940e20"
      },
      "execution_count": null,
      "outputs": [
        {
          "output_type": "stream",
          "name": "stdout",
          "text": [
            "\n",
            "============================================================\n",
            "         DEMONSTRASI HASIL REKOMENDASI        \n",
            "============================================================\n",
            "\n",
            "SKENARIO 1: DONATUR 1\n",
            "Donatur 1 sebelumnya berdonasi untuk kampanye bencana: 'Tolong! Semeru Erupsi, 1.979 Warga Mengungsi'\n",
            "------------------------------------------------------------------\n",
            "Rekomendasi kampanye serupa untuk Donatur 1:\n",
            "                                               Judul     Kategori  \\\n",
            "0  DARURAT! BANTU WARGA TERDAMPAK ERUPSI GUNUNG L...  Kemanusiaan   \n",
            "1  Darurat! Bantu Warga Terdampak Banjir Lahar Di...  Kemanusiaan   \n",
            "2                     SOLIDARITAS BANJIR JAWA TENGAH  Kemanusiaan   \n",
            "3        Kirim Bantuan Medis Untuk Pengungsi Cianjur  Kemanusiaan   \n",
            "4       URGENT! BANTU WARGA TERDAMPAK BANJIR LAMPUNG  Kemanusiaan   \n",
            "5  17 orang meninggal dunia, 50 lainnya luka bera...  Kemanusiaan   \n",
            "6               Bantu Korban Terdampak Gempa Cianjur  Kemanusiaan   \n",
            "7  [MENDESAK] Jabodetabek dikepung banjir hingga ...  Kemanusiaan   \n",
            "8  Mau Didoakan Malaikat? Yuk Sedekah Subuh Janga...       Sosial   \n",
            "9  SOLIDARITAS BANTU PENYINTAS BANJIR MAKASSAR MAROS  Kemanusiaan   \n",
            "\n",
            "   Similarity Score  \n",
            "0            0.3156  \n",
            "1            0.3080  \n",
            "2            0.1393  \n",
            "3            0.1336  \n",
            "4            0.1335  \n",
            "5            0.1333  \n",
            "6            0.1296  \n",
            "7            0.1162  \n",
            "8            0.1067  \n",
            "9            0.1035  \n",
            "\n",
            "\n",
            "SKENARIO 2: DONATUR 2\n",
            "Donatur 2 sebelumnya berdonasi untuk kampanye kemanusiaan: '[DARURAT] Bangun Lagi Rumah Sakit untuk GAZA!'\n",
            "------------------------------------------------------------------\n",
            "Rekomendasi kampanye serupa (berdasarkan riwayat kemanusiaan):\n",
            "                                               Judul     Kategori  \\\n",
            "0                             Bangun Mushola Pelosok       Sosial   \n",
            "1    Bantu Palestina Bangun Tempat Tinggal Sementara  Kemanusiaan   \n",
            "2                                Ambulans Untuk Gaza  Kemanusiaan   \n",
            "3   Bantu Adik Ashritha Sadar dan Pulih dari Komanya       Sosial   \n",
            "4          Bangun Kembali Jembatan Rusak di Sukabumi  Kemanusiaan   \n",
            "5                      Sedekah Air Bersih Untuk Gaza  Kemanusiaan   \n",
            "6  🚨 DARURAT!! Gaza Kembali Diserang, Mereka Butu...  Kemanusiaan   \n",
            "7                      Rumah Sakit Lapangan Covid-19    Kesehatan   \n",
            "8  Yuk Bangun Sekolah Satu-Satunya di Pelosok Banten   Pendidikan   \n",
            "9              Bantuan Pakaian Hangat Tuk Warga Gaza  Kemanusiaan   \n",
            "\n",
            "   Similarity Score  \n",
            "0            0.2126  \n",
            "1            0.2059  \n",
            "2            0.2047  \n",
            "3            0.1795  \n",
            "4            0.1689  \n",
            "5            0.1651  \n",
            "6            0.1636  \n",
            "7            0.1575  \n",
            "8            0.1365  \n",
            "9            0.1313  \n",
            "\n",
            "Donatur 2 juga berdonasi untuk kampanye zakat: 'Zakat untuk Anak Yatim & Dhuafa: Wujudkan Kebahagiaan Mereka di Ramadhan Ini'\n",
            "------------------------------------------------------------------\n",
            "Rekomendasi kampanye serupa (berdasarkan riwayat zakat):\n",
            "                                               Judul     Kategori  \\\n",
            "0                Berbagi 1000 Parsel untuk Palestina  Kemanusiaan   \n",
            "1    Dukung Para Hafidz Palestina dengan Zakat Anda!       Sosial   \n",
            "2  Dukung Perjuangan Palestina dengan Zakat Terba...       Sosial   \n",
            "3  Sedekah Parsel Ramadan: Hadiah untuk Yatim dan...       Sosial   \n",
            "4                Tunaikan ZAKAT FITRAH 2025 di sini!        Zakat   \n",
            "5  Sedekah Jariyah : Hadirkan Senyum untuk Yatim ...       Sosial   \n",
            "6  Mau Hajat Dikabulkan? Yuk, Muliakan Yatim Seka...       Sosial   \n",
            "7  Sedekah Ramadan : 10.000 Parsel Ramadan untuk ...       Sosial   \n",
            "8                          Sedekah Quran untuk Yatim       Sosial   \n",
            "9    Traktir Makan Saudaramu (Yatim, Dhuafa, Lansia)  Kemanusiaan   \n",
            "\n",
            "   Similarity Score  \n",
            "0            0.2440  \n",
            "1            0.2213  \n",
            "2            0.2198  \n",
            "3            0.2146  \n",
            "4            0.2098  \n",
            "5            0.1858  \n",
            "6            0.1773  \n",
            "7            0.1632  \n",
            "8            0.1618  \n",
            "9            0.1596  \n"
          ]
        }
      ]
    },
    {
      "cell_type": "code",
      "source": [
        "import pandas as pd\n",
        "import sklearn\n",
        "import numpy\n",
        "\n",
        "print(\"--- Versi Library di Google Colab ---\")\n",
        "print(f\"Versi Pandas: {pd.__version__}\")\n",
        "print(f\"Versi Scikit-learn: {sklearn.__version__}\")\n",
        "print(f\"Versi Numpy: {numpy.__version__}\")"
      ],
      "metadata": {
        "id": "V3gOsWTISkBD",
        "outputId": "b0c833a9-ef4c-458f-c5a6-ec64b870e1ec",
        "colab": {
          "base_uri": "https://localhost:8080/"
        }
      },
      "execution_count": null,
      "outputs": [
        {
          "output_type": "stream",
          "name": "stdout",
          "text": [
            "--- Versi Library di Google Colab ---\n",
            "Versi Pandas: 2.2.2\n",
            "Versi Scikit-learn: 1.6.1\n",
            "Versi Numpy: 2.0.2\n"
          ]
        }
      ]
    }
  ]
}